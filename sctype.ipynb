{
 "cells": [
  {
   "cell_type": "markdown",
   "metadata": {},
   "source": [
    "# Code for sctype: SVM and ANN trained with Zheng 68k PBMC dataset\n",
    "\n",
    "### (10-15-2020)\n",
    "- initializing the sctype class imports 10Xv2 data with genes.tsv, barcodes.tsv, and matrix.mtx files\n",
    "- must provide path to the directory with these three files.\n",
    "- Need to import cell type annotations manually with pd.read_csv()\n",
    "\n",
    "### (10-19-2020)\n",
    "- SVM implemented with LinearSVC \n",
    "    - SVC was giving me \"AttributeError: var not found\"\n",
    "    - Not sure how to resolve this error, but documentation recommends LinearSVC for large datasets anyways\n",
    "- changed the output of train_test_split() to split all train/test data as well as labels (4 outputs)\n",
    "\n",
    "### (10-20-2020)\n",
    "- Added CalibratedClassifierCV() wrapper to model to calibrate probabilities\n",
    "- Use predict_proba() method to get probabilities for each class\n",
    "\n",
    "### (10-22-2020)\n",
    "- implementing ANN with Tensorflow/Keras instead of PyTorch\n",
    "\n",
    "### (10-23-2020)\n",
    "- tried 10 epochs w/ 16 (instead of 500) as batch size. Still about 23% accuracy on test data.\n",
    "- removing dropouts in the init method and added method for normalization/scaling\n",
    "- note: removing all genes with 0 counts and using normalized logCPM does not improve test accuracy\n",
    "- Realized that using to_categorical separately on train/test data mixes up the labels.\n",
    "- one 200 node layer gives about 65% accuracy on test data\n",
    "\n",
    "### (10-24-2020)\n",
    "- created method to convert binary class matrices back to class vectors \n",
    "- class vectors can now be used to create confusion matrices (true labels, predicted labels)\n",
    "- created method to take the max. probability cell type assignment from model.predict as the cell type prediction\n",
    "- Added demo and general workflow summary"
   ]
  },
  {
   "cell_type": "code",
   "execution_count": 1,
   "metadata": {},
   "outputs": [],
   "source": [
    "import numpy as np\n",
    "import pandas as pd\n",
    "import scipy.io as io\n",
    "import tensorflow as tf\n",
    "\n",
    "from tensorflow import keras\n",
    "from tensorflow.keras import layers\n",
    "from tensorflow.keras.utils import to_categorical\n",
    "\n",
    "from sklearn.svm import LinearSVC\n",
    "from sklearn.calibration import CalibratedClassifierCV\n",
    "from sklearn.model_selection import train_test_split\n",
    "\n",
    "# path = path to the 10Xv2 data directory containing genes.tsv, barcodes.tsv, and matrix.mtx files\n",
    "# Note: need to import cell type annotations file manually since annotation files do not \n",
    "# have any set format between datasets. Set index names to cell barcode IDs in the annotation dataframe\n",
    "# and have the celltype annotations as the first column.\n",
    "\n",
    "class sctype:\n",
    "    def __init__(self, path):\n",
    "        self.genes = pd.read_csv(path + 'genes.tsv', sep = '\\t', header = None).iloc[:,1]\n",
    "        self.barcodes = pd.read_csv(path + 'barcodes.tsv', sep = '\\t', header = None).iloc[:,0]\n",
    "        expression = io.mmread(path + 'matrix.mtx') \n",
    "        \n",
    "        data = pd.DataFrame.sparse.from_spmatrix(data = expression, index = self.genes, columns = self.barcodes)\n",
    "        data = data.fillna(0)\n",
    "        gene_counts = data.sum(axis = 1)\n",
    "        data = data[gene_counts != 0]\n",
    "        \n",
    "        self.data = data.transpose()\n",
    "        self.dropouts = gene_counts[gene_counts == 0].index\n",
    "    \n",
    "    \n",
    "# This preprocess step will divide the gene counts by the total counts per cell, multiply by scale_factor\n",
    "# and perform log1p; output is normalized logCPM data. \n",
    "# Scale will center the per gene expression data around 0 and adjust to unit variance.\n",
    "# Though, this doesn't seem to affect NN performance too much. Can feed self.data to the split method\n",
    "# and go directly to training the NN without running this preprocessing step.\n",
    "\n",
    "    def data_preprocess(self, normalize = True, scale_factor = 10000, scale = True):\n",
    "        if normalize:\n",
    "            cell_counts = self.data.sum(axis = 1)\n",
    "            div = self.data.divide(other = cell_counts, axis = 'index')\n",
    "            self.data_norm = np.log1p(div * scale_factor)\n",
    "        if scale:\n",
    "            if normalize:\n",
    "                self.data_norm = (self.data_norm - np.mean(self.data_norm, axis = 0))\\\n",
    "                /(np.std(self.data_norm, axis = 0))\n",
    "            else:\n",
    "                self.data_scaled = (self.data - np.mean(self.data, axis = 0))\\\n",
    "                /(np.std(self.data, axis = 0))\n",
    "\n",
    "                \n",
    "# Labels input should be a dataframe with celltype annotations in the first column. \n",
    "# This method will convert labels with one-hot encoding for use as labels in the NN.\n",
    "# Must be done BEFORE splitting into train/test sets.\n",
    "\n",
    "# The key to the one-hot encoded labels will be stored in self.key\n",
    "# The original labels will be stored in self.labels\n",
    "\n",
    "    def process_labels(self, labels, depth):\n",
    "        all_labels = labels.copy()\n",
    "        \n",
    "        if depth == 1:\n",
    "            all_labels[all_labels == ['CD4+/CD45RO+ Memory']] = 'CD4+ T' \n",
    "            all_labels[all_labels == ['CD4+/CD25 T Reg']] = 'CD4+ T' \n",
    "            all_labels[all_labels == ['CD4+ T Helper2']] = 'CD4+ T' \n",
    "            all_labels[all_labels == ['CD4+/CD45RA+/CD25- Naive T']] = 'CD4+ T' \n",
    "            all_labels[all_labels == ['CD8+ Cytotoxic T']] = 'CD8+ T'\n",
    "            all_labels[all_labels == ['CD8+/CD45RA+ Naive Cytotoxic']] = 'CD8+ T'\n",
    "        \n",
    "            factorized = pd.factorize(all_labels.iloc[:,0])\n",
    "            self.labels = all_labels.iloc[:,0]\n",
    "            self.key = factorized[1]\n",
    "            self.categorical_labels = to_categorical(factorized[0], len(factorized[1]))\n",
    "        \n",
    "        if depth == 2:\n",
    "            factorized = pd.factorize(all_labels.iloc[:,0])\n",
    "            self.labels = all_labels.iloc[:,0]\n",
    "            self.key = factorized[1]\n",
    "            self.categorical_labels = to_categorical(factorized[0], len(factorized[1]))\n",
    "    \n",
    "    \n",
    "# NOTE: for SVM, it is better to use data that is NOT scaled; it will take too long to train.\n",
    "# Only use self.data_norm to split if scale = False when calling self.data_preprocess(). \n",
    "# Otherwise, use data = self.data\n",
    "\n",
    "    def split(self, data, labels, test_size, random_state):\n",
    "        self.train_data, self.test_data, self.train_labels, self.test_labels = train_test_split(\n",
    "            data, labels, test_size=test_size,\n",
    "            random_state=random_state, stratify=labels)\n",
    "\n",
    "        \n",
    "    def svm(self, iterations = 1000, cv = 4, method = 'sigmoid'):\n",
    "        train_labels = self.to_vector(self.train_labels)\n",
    "        \n",
    "        clf = LinearSVC(max_iter = iterations)\n",
    "        clf = CalibratedClassifierCV(clf, cv = cv, method = method)\n",
    "        self.svmfit = clf.fit(self.train_data, train_labels)\n",
    "        return self.svmfit\n",
    "    \n",
    "    \n",
    "    def evaluate_svm(self, predictions, target):\n",
    "        true_labels = self.to_vector(target)\n",
    "        acc = sum(predictions == true_labels)/len(predictions)\n",
    "        return acc\n",
    "    \n",
    "    \n",
    "    def ann(self, epochs, batch_size):\n",
    "        model = keras.Sequential()\n",
    "        model.add(layers.Dense(200, activation='relu', name = 'layer1'))\n",
    "        model.add(layers.Dense(100, activation='relu', name = 'layer2'))\n",
    "        model.add(layers.Dense(len(self.key), activation='softmax', name = 'outputlayer'))\n",
    "        \n",
    "        model.compile(optimizer='adam',\n",
    "                     loss='categorical_crossentropy',\n",
    "                     metrics=['accuracy'])\n",
    "    \n",
    "        model.fit(self.train_data, self.train_labels, epochs=epochs, batch_size=batch_size)\n",
    "            \n",
    "        self.ann_fit = model\n",
    "        return self.ann_fit\n",
    "    \n",
    "    \n",
    "# From the output of NN, select highest probabilities per cell as the celltype prediction\n",
    "\n",
    "    def max_prob(self, probs):\n",
    "        predictions = (probs == probs.max(axis = 1)[:,None]).astype(int)\n",
    "        return predictions\n",
    "    \n",
    "    \n",
    "# Converts the binary class matrix (output from NN) back to a class vector with\n",
    "# integeters representing the different classes. (essentially undoes to_categorical)\n",
    "# The order of the labels are stored in self.key\n",
    "\n",
    "    def to_vector(self, class_matrix):\n",
    "        copy_matrix = class_matrix.copy()\n",
    "        for i in range(len(copy_matrix[0])):\n",
    "            copy_matrix[:,i] = copy_matrix[:,i] * (i+1)\n",
    "        tmp = []\n",
    "        for j in range(len(copy_matrix)):\n",
    "            tmp.append(np.trim_zeros(copy_matrix[j]))\n",
    "        class_vector = np.concatenate(tmp)\n",
    "        return class_vector"
   ]
  },
  {
   "cell_type": "markdown",
   "metadata": {},
   "source": [
    "## Importing/processing data\n",
    "1. __Define path to annotation and data files__ (in format of 10X v2 data with genes.tsv, barcodes.tsv, and matrix.mtx files)\n",
    "2. __import and process annotation file__ to have barcodes as indices and cell type labels in first column\n",
    "3. __Create sctype object__, given the path to the data files\n",
    "4. __Process the labels__; this will create self.labels which retains original annotation information, but also creates one-hot encoded labels to be used for the neural network. self.key has all of the unique cell types being annotated. NOTE: Setting scale = True seems to dramatically increase train time with the SVM, so either run with normalize = True, scale = False OR skip entirely and train SVM with self.data (raw counts).\n",
    "5. __Preprocess counts data__(optional); this doesn't seem to have much of an affect with this intra-dataset evaluation on test data. But this will divide counts by total counts per cell, log-normalize (with log1p), and center feature data around 0.\n",
    "6. __Split the data__ to create separate train/test datasets with respective labels"
   ]
  },
  {
   "cell_type": "code",
   "execution_count": 2,
   "metadata": {},
   "outputs": [],
   "source": [
    "# 1 and 2. Define annotation and data file paths and import labels. \n",
    "\n",
    "path_data = '/Users/leealj/py_projects/biof509_final/zheng68k/filtered_matrices_mex/hg19/'\n",
    "path_anno = '/Users/leealj/py_projects/biof509_final/zheng68k/'\n",
    "\n",
    "labels = pd.read_csv(path_anno + '68k_pbmc_barcodes_annotation.tsv', sep = '\\t').loc[:,[\"barcodes\",\"celltype\"]]\n",
    "labels.set_index(\"barcodes\", inplace = True)"
   ]
  },
  {
   "cell_type": "code",
   "execution_count": 3,
   "metadata": {},
   "outputs": [],
   "source": [
    "# 3 and 4. Create sctype object, given path to the data files and process labels\n",
    "\n",
    "zheng = sctype(path_data)\n",
    "zheng.process_labels(labels, depth = 1)"
   ]
  },
  {
   "cell_type": "code",
   "execution_count": 4,
   "metadata": {},
   "outputs": [],
   "source": [
    "# 5. Data pre-processing step to calculate logCPM counts and center around 0 with unit variance.\n",
    "\n",
    "zheng.data_preprocess(normalize = True, scale = False)"
   ]
  },
  {
   "cell_type": "code",
   "execution_count": 5,
   "metadata": {},
   "outputs": [],
   "source": [
    "# 6. Split the expression data into a train set and test set with their respective labels\n",
    "\n",
    "zheng.split(data = zheng.data_norm, labels = zheng.categorical_labels, test_size = 0.25, random_state = 20)"
   ]
  },
  {
   "cell_type": "markdown",
   "metadata": {},
   "source": [
    "## Train and generate predictions with ANN\n",
    "1. __Train the NN__ with # of epochs and batch size provided as input to the self.ann() method.\n",
    "2. __Evaluate performance of NN__\n",
    "3. __Generate cell type predictions__ with self.ann_fit.predict()\n",
    "4. __Convert prediction probabilities to cell type labels__ with self.max_prob followed by self.to_vector. This will provide a class vector with each integeter representing a cell type (actual cell type names stored in self.key)"
   ]
  },
  {
   "cell_type": "code",
   "execution_count": 6,
   "metadata": {},
   "outputs": [
    {
     "name": "stdout",
     "output_type": "stream",
     "text": [
      "Epoch 1/5\n",
      "WARNING:tensorflow:Layer layer1 is casting an input tensor from dtype float64 to the layer's dtype of float32, which is new behavior in TensorFlow 2.  The layer has dtype float32 because its dtype defaults to floatx.\n",
      "\n",
      "If you intended to run this layer in float32, you can safely ignore this warning. If in doubt, this warning is likely only an issue if you are porting a TensorFlow 1.X model to TensorFlow 2.\n",
      "\n",
      "To change all layers to have dtype float64 by default, call `tf.keras.backend.set_floatx('float64')`. To change just this layer, pass dtype='float64' to the layer constructor. If you are the author of this layer, you can disable autocasting by passing autocast=False to the base Layer constructor.\n",
      "\n",
      "1608/1608 [==============================] - 30s 19ms/step - loss: 0.4537 - accuracy: 0.8156\n",
      "Epoch 2/5\n",
      "1608/1608 [==============================] - 32s 20ms/step - loss: 0.2283 - accuracy: 0.9078\n",
      "Epoch 3/5\n",
      "1608/1608 [==============================] - 31s 19ms/step - loss: 0.1348 - accuracy: 0.9460\n",
      "Epoch 4/5\n",
      "1608/1608 [==============================] - 30s 19ms/step - loss: 0.0805 - accuracy: 0.9696\n",
      "Epoch 5/5\n",
      "1608/1608 [==============================] - 32s 20ms/step - loss: 0.0547 - accuracy: 0.9795\n"
     ]
    },
    {
     "data": {
      "text/plain": [
       "<tensorflow.python.keras.engine.sequential.Sequential at 0x7fccb91218e0>"
      ]
     },
     "execution_count": 6,
     "metadata": {},
     "output_type": "execute_result"
    }
   ],
   "source": [
    "# 1. train the NN with the training dataset from split\n",
    "\n",
    "zheng.ann(5, 32) "
   ]
  },
  {
   "cell_type": "code",
   "execution_count": 7,
   "metadata": {},
   "outputs": [
    {
     "name": "stdout",
     "output_type": "stream",
     "text": [
      "1608/1608 [==============================] - 13s 8ms/step - loss: 0.0327 - accuracy: 0.9883\n",
      "536/536 [==============================] - 2s 4ms/step - loss: 0.6469 - accuracy: 0.8454\n",
      "training loss= 0.0326714850962162\n",
      "training accuracy= 0.9882568120956421\n",
      "test loss= 0.6468686461448669\n",
      "test accuracy= 0.8453776836395264\n"
     ]
    }
   ],
   "source": [
    "# 2. Use train dataset from split to test the NN\n",
    "\n",
    "score_train = zheng.ann_fit.evaluate(zheng.train_data, zheng.train_labels, verbose=1)\n",
    "score_test = zheng.ann_fit.evaluate(zheng.test_data, zheng.test_labels, verbose=1)\n",
    "\n",
    "print('training loss=', score_train[0]) \n",
    "print('training accuracy=', score_train[1])\n",
    "print('test loss=', score_test[0]) \n",
    "print('test accuracy=', score_test[1]) "
   ]
  },
  {
   "cell_type": "code",
   "execution_count": 8,
   "metadata": {},
   "outputs": [],
   "source": [
    "# 3. Make the cell type predictions with trained NN\n",
    "\n",
    "NNtest_probs = zheng.ann_fit.predict(zheng.test_data)"
   ]
  },
  {
   "cell_type": "code",
   "execution_count": 9,
   "metadata": {},
   "outputs": [
    {
     "name": "stdout",
     "output_type": "stream",
     "text": [
      "[1 2 3 4 5 6 7]\n",
      "Index(['CD8+ T', 'CD4+ T', 'CD19+ B', 'CD56+ NK', 'CD34+', 'Dendritic',\n",
      "       'CD14+ Monocyte'],\n",
      "      dtype='object')\n"
     ]
    }
   ],
   "source": [
    "# 4. Select highest probabilities per cell from NN as the cell type prediction\n",
    "\n",
    "NNtest_true = zheng.to_vector(zheng.test_labels)\n",
    "NNtest_pred = zheng.to_vector(zheng.max_prob(NNtest_probs))\n",
    "print(np.unique(NNtest_pred))\n",
    "print(zheng.key)"
   ]
  },
  {
   "cell_type": "code",
   "execution_count": 10,
   "metadata": {},
   "outputs": [],
   "source": [
    "# # Cell type probabilities split by true cell type labels\n",
    "# # to be used for violin plots\n",
    "\n",
    "# predict1 = NNtest_probs[np.where(NNtest_true == 1)]\n",
    "# predict2 = NNtest_probs[np.where(NNtest_true == 2)]\n",
    "# predict3 = NNtest_probs[np.where(NNtest_true == 3)]\n",
    "# predict4 = NNtest_probs[np.where(NNtest_true == 4)]\n",
    "# predict5 = NNtest_probs[np.where(NNtest_true == 5)]\n",
    "# predict6 = NNtest_probs[np.where(NNtest_true == 6)]\n",
    "# predict7 = NNtest_probs[np.where(NNtest_true == 7)]"
   ]
  },
  {
   "cell_type": "markdown",
   "metadata": {},
   "source": [
    "### Generating heatmaps and violin plots for ANN"
   ]
  },
  {
   "cell_type": "code",
   "execution_count": 11,
   "metadata": {},
   "outputs": [
    {
     "data": {
      "image/png": "[encoded data removed]",
      "text/plain": [
       "<Figure size 432x288 with 2 Axes>"
      ]
     },
     "metadata": {
      "needs_background": "light"
     },
     "output_type": "display_data"
    }
   ],
   "source": [
    "import matplotlib\n",
    "import matplotlib.pyplot as plt\n",
    "from sklearn.metrics import confusion_matrix\n",
    "\n",
    "confmatrix_NN1 = confusion_matrix(NNtest_true, NNtest_pred, normalize = 'true')\n",
    "\n",
    "fig, ax = plt.subplots()\n",
    "im = ax.imshow(confmatrix*100)\n",
    "\n",
    "ax.set_xticks(np.arange(len(zheng.key)))\n",
    "ax.set_yticks(np.arange(len(zheng.key)))\n",
    "\n",
    "ax.set_xticklabels(zheng.key)\n",
    "ax.set_yticklabels(zheng.key)\n",
    "\n",
    "plt.setp(ax.get_xticklabels(), rotation=45, ha=\"right\",\n",
    "         rotation_mode=\"anchor\")\n",
    "\n",
    "cbar = ax.figure.colorbar(im, ax=ax)\n",
    "cbar.ax.set_ylabel(\"% accuracy\", rotation=-90, va=\"bottom\")\n",
    "\n",
    "ax.set_ylabel(\"Predicted labels\")\n",
    "ax.set_xlabel(\"True labels\")\n",
    "ax.set_title(\"ANN Predicted vs. True labels\")\n",
    "fig.tight_layout()\n",
    "# plt.savefig(fname = '/Users/leealj/py_projects/biof509_final/plots/nn_heatmap.png', dpi = 500, transparent = True)\n",
    "plt.show()"
   ]
  },
  {
   "cell_type": "code",
   "execution_count": 12,
   "metadata": {},
   "outputs": [
    {
     "name": "stdout",
     "output_type": "stream",
     "text": [
      "('Failed to import pydot. You must `pip install pydot` and install graphviz (https://graphviz.gitlab.io/download/), ', 'for `pydotprint` to work.')\n"
     ]
    }
   ],
   "source": [
    "# # Generate visualize of the ANN model\n",
    "\n",
    "# keras.utils.plot_model(\n",
    "#     zheng.ann_fit,\n",
    "#     to_file=\"/Users/leealj/py_projects/biof509_final/model.png\",\n",
    "#     dpi=96,\n",
    "# )"
   ]
  },
  {
   "cell_type": "code",
   "execution_count": 13,
   "metadata": {},
   "outputs": [
    {
     "data": {
      "text/plain": [
       "array([1.5932193e-02, 9.8269904e-01, 1.3682611e-03, 1.4907837e-10,\n",
       "       2.5075900e-07, 1.9705588e-07, 2.5712943e-09], dtype=float32)"
      ]
     },
     "execution_count": 13,
     "metadata": {},
     "output_type": "execute_result"
    }
   ],
   "source": [
    "# NNtest_probs[np.where(NNtest_true == 2)][0]"
   ]
  },
  {
   "cell_type": "code",
   "execution_count": 14,
   "metadata": {},
   "outputs": [
    {
     "ename": "NameError",
     "evalue": "name 'NNtest_prob' is not defined",
     "output_type": "error",
     "traceback": [
      "\u001b[0;31m---------------------------------------------------------------------------\u001b[0m",
      "\u001b[0;31mNameError\u001b[0m                                 Traceback (most recent call last)",
      "\u001b[0;32m<ipython-input-14-b2c8abece3af>\u001b[0m in \u001b[0;36m<module>\u001b[0;34m\u001b[0m\n\u001b[1;32m      1\u001b[0m \u001b[0;34m[\u001b[0m\u001b[0mnp\u001b[0m\u001b[0;34m.\u001b[0m\u001b[0mwhere\u001b[0m\u001b[0;34m(\u001b[0m\u001b[0mNNtest_pred\u001b[0m\u001b[0;34m)\u001b[0m \u001b[0;34m==\u001b[0m \u001b[0;36m1\u001b[0m\u001b[0;34m]\u001b[0m \u001b[0;31m# Indices of all cells that were predicted to be CD8+ T\u001b[0m\u001b[0;34m\u001b[0m\u001b[0;34m\u001b[0m\u001b[0m\n\u001b[0;32m----> 2\u001b[0;31m \u001b[0mNNtest_prob\u001b[0m\u001b[0;34m[\u001b[0m\u001b[0mnp\u001b[0m\u001b[0;34m.\u001b[0m\u001b[0mwhere\u001b[0m\u001b[0;34m(\u001b[0m\u001b[0mNNtest_pred\u001b[0m\u001b[0;34m)\u001b[0m \u001b[0;34m==\u001b[0m \u001b[0;36m1\u001b[0m\u001b[0;34m]\u001b[0m \u001b[0;31m# Prediction probabilities (for all cell types) of all cells that were predicted to be CD8+ T\u001b[0m\u001b[0;34m\u001b[0m\u001b[0;34m\u001b[0m\u001b[0m\n\u001b[0m\u001b[1;32m      3\u001b[0m \u001b[0;31m# plot these values on violin plot... So there will be 7 violin plots in total.\u001b[0m\u001b[0;34m\u001b[0m\u001b[0;34m\u001b[0m\u001b[0;34m\u001b[0m\u001b[0m\n",
      "\u001b[0;31mNameError\u001b[0m: name 'NNtest_prob' is not defined"
     ]
    }
   ],
   "source": [
    "# [np.where(NNtest_pred) == 1] # Indices of all cells that were predicted to be CD8+ T\n",
    "# NNtest_probs[np.where(NNtest_pred) == 1] # Prediction probabilities (for all cell types) of all cells that were predicted to be CD8+ T\n",
    "# # plot these values on violin plot... So there will be 7 violin plots in total."
   ]
  },
  {
   "cell_type": "code",
   "execution_count": null,
   "metadata": {},
   "outputs": [],
   "source": []
  },
  {
   "cell_type": "markdown",
   "metadata": {},
   "source": [
    "## Train and generate predictions with SVM\n",
    "1. __Train the SVM__ with cv set to number of folds for cross validation used to optimize and calibrate the probabilities that are returned as output from model.predict().\n",
    "2. __Generate cell type predictions__ with model.predict()\n",
    "3. __Evaluate performance of SVM__ with self.evaluate_svm() using the output from model.predict() and the true labels (from self.train_labels or self_test_labels) as the input.\n",
    "4. __Convert prediction probabilities to cell type labels__ with self.max_prob followed by self.to_vector. This will provide a class vector with each integeter representing a cell type (actual cell type names stored in self.key)"
   ]
  },
  {
   "cell_type": "code",
   "execution_count": 15,
   "metadata": {},
   "outputs": [
    {
     "name": "stderr",
     "output_type": "stream",
     "text": [
      "/Users/leealj/opt/anaconda3/lib/python3.8/site-packages/sklearn/svm/_base.py:976: ConvergenceWarning: Liblinear failed to converge, increase the number of iterations.\n",
      "  warnings.warn(\"Liblinear failed to converge, increase \"\n",
      "/Users/leealj/opt/anaconda3/lib/python3.8/site-packages/sklearn/svm/_base.py:976: ConvergenceWarning: Liblinear failed to converge, increase the number of iterations.\n",
      "  warnings.warn(\"Liblinear failed to converge, increase \"\n",
      "/Users/leealj/opt/anaconda3/lib/python3.8/site-packages/sklearn/svm/_base.py:976: ConvergenceWarning: Liblinear failed to converge, increase the number of iterations.\n",
      "  warnings.warn(\"Liblinear failed to converge, increase \"\n",
      "/Users/leealj/opt/anaconda3/lib/python3.8/site-packages/sklearn/svm/_base.py:976: ConvergenceWarning: Liblinear failed to converge, increase the number of iterations.\n",
      "  warnings.warn(\"Liblinear failed to converge, increase \"\n"
     ]
    }
   ],
   "source": [
    "# 1. Train the SVM: Using the same train/test data that was used with the NN for a proper comparison\n",
    "\n",
    "model = zheng.svm()"
   ]
  },
  {
   "cell_type": "code",
   "execution_count": 16,
   "metadata": {},
   "outputs": [],
   "source": [
    "# 2. Generate cell type predictions\n",
    "\n",
    "SVMtrain_pred = model.predict(zheng.train_data)\n",
    "SVMtest_pred = model.predict(zheng.test_data)"
   ]
  },
  {
   "cell_type": "code",
   "execution_count": 17,
   "metadata": {},
   "outputs": [
    {
     "name": "stdout",
     "output_type": "stream",
     "text": [
      "The prediction accuracy on the train set is: 0.9588987829062487\n",
      "The prediction accuracy on the test set is: 0.8517935258092738\n"
     ]
    }
   ],
   "source": [
    "# 3. Evaluate performance of SVM\n",
    "\n",
    "# print(zheng.evaluate_svm(predictions = SVMtrain_pred, target = zheng.train_labels))\n",
    "# print(zheng.evaluate_svm(predictions = SVMtest_pred, target = zheng.test_labels))\n",
    "\n",
    "true_train = zheng.to_vector(zheng.train_labels)\n",
    "true_test = zheng.to_vector(zheng.test_labels)\n",
    "\n",
    "print(\"The prediction accuracy on the train set is: {}\"\\\n",
    "      .format(sum(SVMtrain_pred == true_train)/len(SVMtrain_pred)))\n",
    "print(\"The prediction accuracy on the test set is: {}\"\\\n",
    "      .format(sum(SVMtest_pred == true_test)/len(SVMtest_pred)))"
   ]
  },
  {
   "cell_type": "code",
   "execution_count": 18,
   "metadata": {},
   "outputs": [
    {
     "data": {
      "text/plain": [
       "array([[5.13164340e-01, 1.56310852e-01, 2.96912804e-01, ...,\n",
       "        2.19540014e-03, 6.09923665e-04, 2.66411064e-03],\n",
       "       [9.63507496e-01, 1.04110069e-02, 2.03729462e-02, ...,\n",
       "        1.98127791e-04, 2.98344098e-03, 2.48717946e-03],\n",
       "       [9.87258685e-01, 2.67217142e-03, 9.37881546e-05, ...,\n",
       "        2.15381944e-04, 9.34770567e-03, 1.70668056e-04],\n",
       "       ...,\n",
       "       [9.76803260e-01, 1.88961322e-02, 5.25206549e-05, ...,\n",
       "        6.94294996e-05, 1.27399502e-04, 1.52357323e-03],\n",
       "       [6.03959902e-01, 8.81168541e-02, 2.92858655e-01, ...,\n",
       "        2.70043015e-04, 1.22739054e-02, 5.60454554e-04],\n",
       "       [9.46421958e-01, 2.11357967e-02, 2.34827202e-02, ...,\n",
       "        5.42281363e-03, 1.63222449e-03, 1.56427311e-03]])"
      ]
     },
     "execution_count": 18,
     "metadata": {},
     "output_type": "execute_result"
    }
   ],
   "source": [
    "SVMtest_probs = model.predict_proba(zheng.test_data)\n",
    "SVMtest_probs"
   ]
  },
  {
   "cell_type": "markdown",
   "metadata": {},
   "source": [
    "### Generate heatmaps and violin plots for SVM"
   ]
  },
  {
   "cell_type": "code",
   "execution_count": 19,
   "metadata": {},
   "outputs": [
    {
     "data": {
      "image/png": "[encoded data removed]",
      "text/plain": [
       "<Figure size 432x288 with 1 Axes>"
      ]
     },
     "metadata": {
      "needs_background": "light"
     },
     "output_type": "display_data"
    }
   ],
   "source": [
    "confmatrix_SVM = confusion_matrix(zheng.to_vector(zheng.test_labels), SVMtest_pred, normalize = 'true')\n",
    "\n",
    "fig2, ax2 = plt.subplots()\n",
    "im = ax2.imshow(confmatrix_SVM*100)\n",
    "\n",
    "ax2.set_xticks(np.arange(len(zheng.key)))\n",
    "ax2.set_yticks(np.arange(len(zheng.key)))\n",
    "\n",
    "ax2.set_xticklabels(zheng.key)\n",
    "ax2.set_yticklabels(zheng.key)\n",
    "\n",
    "plt.setp(ax2.get_xticklabels(), rotation=45, ha=\"right\",\n",
    "         rotation_mode=\"anchor\")\n",
    "\n",
    "cbar = ax2.figure.colorbar(im, ax=ax)\n",
    "cbar.ax.set_ylabel(\"% accuracy\", rotation=-90, va=\"bottom\")\n",
    "\n",
    "ax2.set_ylabel(\"Predicted labels\")\n",
    "ax2.set_xlabel(\"True labels\")\n",
    "ax2.set_title(\"SVM Predicted vs. True labels\")\n",
    "fig2.tight_layout()\n",
    "# plt.savefig(fname = '/Users/leealj/py_projects/biof509_final/plots/svm_heatmap.png', dpi = 500, transparent = True)\n",
    "plt.show()"
   ]
  },
  {
   "cell_type": "markdown",
   "metadata": {},
   "source": [
    "# Analysis with depth = 2\n",
    "- Attempting to distinguish between T-cell subsets "
   ]
  },
  {
   "cell_type": "code",
   "execution_count": 20,
   "metadata": {},
   "outputs": [],
   "source": [
    "# Re-run the process_labels() method, but with depth = 2 to retain T-cell subset identities\n",
    "# and split data again with these labels.\n",
    "\n",
    "zheng.process_labels(labels, depth = 2)\n",
    "zheng.split(data = zheng.data_norm, labels = zheng.categorical_labels, test_size = 0.25, random_state = 20)"
   ]
  },
  {
   "cell_type": "code",
   "execution_count": 21,
   "metadata": {},
   "outputs": [
    {
     "name": "stdout",
     "output_type": "stream",
     "text": [
      "Epoch 1/5\n",
      "WARNING:tensorflow:Layer layer1 is casting an input tensor from dtype float64 to the layer's dtype of float32, which is new behavior in TensorFlow 2.  The layer has dtype float32 because its dtype defaults to floatx.\n",
      "\n",
      "If you intended to run this layer in float32, you can safely ignore this warning. If in doubt, this warning is likely only an issue if you are porting a TensorFlow 1.X model to TensorFlow 2.\n",
      "\n",
      "To change all layers to have dtype float64 by default, call `tf.keras.backend.set_floatx('float64')`. To change just this layer, pass dtype='float64' to the layer constructor. If you are the author of this layer, you can disable autocasting by passing autocast=False to the base Layer constructor.\n",
      "\n",
      "1608/1608 [==============================] - 30s 19ms/step - loss: 0.8051 - accuracy: 0.6897\n",
      "Epoch 2/5\n",
      "1608/1608 [==============================] - 33s 20ms/step - loss: 0.4321 - accuracy: 0.8348\n",
      "Epoch 3/5\n",
      "1608/1608 [==============================] - 31s 20ms/step - loss: 0.2345 - accuracy: 0.9139\n",
      "Epoch 4/5\n",
      "1608/1608 [==============================] - 32s 20ms/step - loss: 0.1327 - accuracy: 0.9507\n",
      "Epoch 5/5\n",
      "1608/1608 [==============================] - 31s 20ms/step - loss: 0.0900 - accuracy: 0.9675\n"
     ]
    }
   ],
   "source": [
    "# Train another ANN\n",
    "\n",
    "d2_ann = zheng.ann(5, 32) "
   ]
  },
  {
   "cell_type": "code",
   "execution_count": 23,
   "metadata": {},
   "outputs": [
    {
     "name": "stdout",
     "output_type": "stream",
     "text": [
      "1608/1608 [==============================] - 15s 9ms/step - loss: 0.1227 - accuracy: 0.9530\n",
      "536/536 [==============================] - 2s 4ms/step - loss: 1.4008 - accuracy: 0.7383\n",
      "training loss= 0.12273262441158295\n",
      "training accuracy= 0.9530077576637268\n",
      "test loss= 1.4007900953292847\n",
      "test accuracy= 0.7383493781089783\n"
     ]
    }
   ],
   "source": [
    "# 2. Use train dataset from split to test the NN\n",
    "\n",
    "score_train2 = d2_ann.evaluate(zheng.train_data, zheng.train_labels, verbose=1)\n",
    "score_test2 = d2_ann.evaluate(zheng.test_data, zheng.test_labels, verbose=1)\n",
    "\n",
    "print('training loss=', score_train2[0]) \n",
    "print('training accuracy=', score_train2[1])\n",
    "print('test loss=', score_test2[0]) \n",
    "print('test accuracy=', score_test2[1]) "
   ]
  },
  {
   "cell_type": "code",
   "execution_count": null,
   "metadata": {},
   "outputs": [],
   "source": [
    "NNtest_probs2 = d2_ann.predict(zheng.test_data)\n",
    "NNtest_true2 = zheng.to_vector(zheng.test_labels)\n",
    "NNtest_pred2 = zheng.to_vector(zheng.max_prob(NNtest_probs2))\n",
    "print(np.unique(NNtest_pred2))\n",
    "print(zheng.key)"
   ]
  },
  {
   "cell_type": "code",
   "execution_count": null,
   "metadata": {},
   "outputs": [],
   "source": [
    "confmatrix_NN2 = confusion_matrix(NNtest_true2, NNtest_pred2, normalize = 'true')\n",
    "\n",
    "fig, ax3 = plt.subplots()\n",
    "im = ax3.imshow(confmatrix*100)\n",
    "\n",
    "ax3.set_xticks(np.arange(len(zheng.key)))\n",
    "ax3.set_yticks(np.arange(len(zheng.key)))\n",
    "\n",
    "ax3.set_xticklabels(zheng.key)\n",
    "ax3.set_yticklabels(zheng.key)\n",
    "\n",
    "plt.setp(ax3.get_xticklabels(), rotation=45, ha=\"right\",\n",
    "         rotation_mode=\"anchor\")\n",
    "\n",
    "cbar = ax3.figure.colorbar(im, ax=ax)\n",
    "cbar.ax.set_ylabel(\"% accuracy\", rotation=-90, va=\"bottom\")\n",
    "\n",
    "ax3.set_ylabel(\"Predicted labels\")\n",
    "ax3.set_xlabel(\"True labels\")\n",
    "ax3.set_title(\"ANN Predicted vs. True labels (depth=2)\")\n",
    "fig.tight_layout()\n",
    "# plt.savefig(fname = '/Users/leealj/py_projects/biof509_final/plots/nn2_heatmap.png', dpi = 500, transparent = True)\n",
    "plt.show()"
   ]
  },
  {
   "cell_type": "code",
   "execution_count": null,
   "metadata": {},
   "outputs": [],
   "source": []
  },
  {
   "cell_type": "code",
   "execution_count": null,
   "metadata": {},
   "outputs": [],
   "source": []
  },
  {
   "cell_type": "code",
   "execution_count": null,
   "metadata": {},
   "outputs": [],
   "source": []
  }
 ],
 "metadata": {
  "kernelspec": {
   "display_name": "Python 3",
   "language": "python",
   "name": "python3"
  },
  "language_info": {
   "codemirror_mode": {
    "name": "ipython",
    "version": 3
   },
   "file_extension": ".py",
   "mimetype": "text/x-python",
   "name": "python",
   "nbconvert_exporter": "python",
   "pygments_lexer": "ipython3",
   "version": "3.8.3"
  }
 },
 "nbformat": 4,
 "nbformat_minor": 4
}
