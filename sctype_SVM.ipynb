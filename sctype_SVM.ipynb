{
 "cells": [
  {
   "cell_type": "markdown",
   "metadata": {},
   "source": [
    "# Code for sctype class \n",
    "### (10-15-2020)\n",
    "- initializing the sctype class imports 10Xv2 data with genes.tsv, barcodes.tsv, and matrix.mtx files\n",
    "- must provide path to the directory with these three files.\n",
    "- Need to import cell type annotations manually with pd.read_csv()\n",
    "\n",
    "### (10-19-2020)\n",
    "- SVM implemented with LinearSVC \n",
    "    - SVC was giving me \"AttributeError: var not found\"\n",
    "    - Not sure how to resolve this error, but documentation recommends LinearSVC for large datasets anyways\n",
    "- changed the output of train_test_split() to split all train/test data as well as labels (4 outputs)\n",
    "\n",
    "### (10-20-2020)\n",
    "- Added CalibratedClassifierCV() wrapper to model to calibrate probabilities\n",
    "- Use predict_proba() method to get probabilities for each class"
   ]
  },
  {
   "cell_type": "code",
   "execution_count": 6,
   "metadata": {},
   "outputs": [],
   "source": [
    "import numpy as np\n",
    "import pandas as pd\n",
    "import scipy.io as io\n",
    "from sklearn.svm import LinearSVC\n",
    "from sklearn.calibration import CalibratedClassifierCV\n",
    "from sklearn.model_selection import train_test_split\n",
    "from sklearn.model_selection import cross_val_score\n",
    "\n",
    "\n",
    "# path = path to the 10Xv2 data directory containing genes.tsv, barcodes.tsv, and matrix.mtx files\n",
    "# Note: need to import cell type annotations file manually since annotation files do not \n",
    "# have any set format between datasets. Set index names to cell barcode IDs in the annotation dataframe\n",
    "# and have the celltype annotations as the first column.\n",
    "\n",
    "class sctype:\n",
    "    def __init__(self, path):\n",
    "        self.genes = pd.read_csv(path + 'genes.tsv', sep = '\\t', header = None).iloc[:,1]\n",
    "        self.barcodes = pd.read_csv(path + 'barcodes.tsv', sep = '\\t', header = None).iloc[:,0]\n",
    "        expression = io.mmread(path + 'matrix.mtx') \n",
    "        data = pd.DataFrame.sparse.from_spmatrix(data = expression, index = self.genes, columns = self.barcodes)\n",
    "        self.data = data.transpose()\n",
    "    \n",
    "#     labels input should be a dataframe with cell barcode IDs as indices\n",
    "#     and celltype annotations in the first column.\n",
    "    def split(self, labels, test_size, random_state):\n",
    "        self.train_data, self.test_data, self.train_labels, self.test_labels = train_test_split(\n",
    "            self.data, labels, test_size=test_size, random_state=random_state)\n",
    "\n",
    "    def svm(self, iterations = 1000, cv = 4, method = 'sigmoid'):\n",
    "        clf = LinearSVC(max_iter = iterations)\n",
    "        clf = CalibratedClassifierCV(clf, cv = cv, method = method)\n",
    "        self.svmfit = clf.fit(self.train_data, self.train_labels.iloc[:,0])\n",
    "        return self.svmfit"
   ]
  },
  {
   "cell_type": "markdown",
   "metadata": {},
   "source": [
    "Define paths for Zheng 68k PBMC dataset/annotations, and import annotations:"
   ]
  },
  {
   "cell_type": "code",
   "execution_count": 2,
   "metadata": {},
   "outputs": [],
   "source": [
    "path_data = '/Users/leealj/py_projects/biof509_final/zheng68k/filtered_matrices_mex/hg19/'\n",
    "path_anno = '/Users/leealj/py_projects/biof509_final/zheng68k/'\n",
    "labels = pd.read_csv(path_anno + '68k_pbmc_barcodes_annotation.tsv', sep = '\\t').loc[:,[\"barcodes\",\"celltype\"]]\n",
    "labels.set_index(\"barcodes\", inplace = True)"
   ]
  },
  {
   "cell_type": "markdown",
   "metadata": {},
   "source": [
    "Create the sctype class and check data"
   ]
  },
  {
   "cell_type": "code",
   "execution_count": 3,
   "metadata": {},
   "outputs": [
    {
     "data": {
      "text/html": [
       "<div>\n",
       "<style scoped>\n",
       "    .dataframe tbody tr th:only-of-type {\n",
       "        vertical-align: middle;\n",
       "    }\n",
       "\n",
       "    .dataframe tbody tr th {\n",
       "        vertical-align: top;\n",
       "    }\n",
       "\n",
       "    .dataframe thead th {\n",
       "        text-align: right;\n",
       "    }\n",
       "</style>\n",
       "<table border=\"1\" class=\"dataframe\">\n",
       "  <thead>\n",
       "    <tr style=\"text-align: right;\">\n",
       "      <th></th>\n",
       "      <th>MIR1302-10</th>\n",
       "      <th>FAM138A</th>\n",
       "      <th>OR4F5</th>\n",
       "      <th>RP11-34P13.7</th>\n",
       "      <th>RP11-34P13.8</th>\n",
       "      <th>AL627309.1</th>\n",
       "      <th>RP11-34P13.14</th>\n",
       "      <th>RP11-34P13.9</th>\n",
       "      <th>AP006222.2</th>\n",
       "      <th>RP4-669L17.10</th>\n",
       "      <th>...</th>\n",
       "      <th>BX072566.1</th>\n",
       "      <th>AL354822.1</th>\n",
       "      <th>KIR2DL2</th>\n",
       "      <th>AL590523.1</th>\n",
       "      <th>CT476828.1</th>\n",
       "      <th>AC145205.1</th>\n",
       "      <th>BAGE5</th>\n",
       "      <th>CU459201.1</th>\n",
       "      <th>AC002321.2</th>\n",
       "      <th>AC002321.1</th>\n",
       "    </tr>\n",
       "    <tr>\n",
       "      <th>0</th>\n",
       "      <th></th>\n",
       "      <th></th>\n",
       "      <th></th>\n",
       "      <th></th>\n",
       "      <th></th>\n",
       "      <th></th>\n",
       "      <th></th>\n",
       "      <th></th>\n",
       "      <th></th>\n",
       "      <th></th>\n",
       "      <th></th>\n",
       "      <th></th>\n",
       "      <th></th>\n",
       "      <th></th>\n",
       "      <th></th>\n",
       "      <th></th>\n",
       "      <th></th>\n",
       "      <th></th>\n",
       "      <th></th>\n",
       "      <th></th>\n",
       "      <th></th>\n",
       "    </tr>\n",
       "  </thead>\n",
       "  <tbody>\n",
       "    <tr>\n",
       "      <th>AAACATACACCCAA-1</th>\n",
       "      <td>0.0</td>\n",
       "      <td>0.0</td>\n",
       "      <td>0.0</td>\n",
       "      <td>0.0</td>\n",
       "      <td>0.0</td>\n",
       "      <td>0.0</td>\n",
       "      <td>0.0</td>\n",
       "      <td>0.0</td>\n",
       "      <td>0.0</td>\n",
       "      <td>0.0</td>\n",
       "      <td>...</td>\n",
       "      <td>0.0</td>\n",
       "      <td>0.0</td>\n",
       "      <td>0.0</td>\n",
       "      <td>0.0</td>\n",
       "      <td>0.0</td>\n",
       "      <td>0.0</td>\n",
       "      <td>0.0</td>\n",
       "      <td>0.0</td>\n",
       "      <td>0.0</td>\n",
       "      <td>0.0</td>\n",
       "    </tr>\n",
       "    <tr>\n",
       "      <th>AAACATACCCCTCA-1</th>\n",
       "      <td>0.0</td>\n",
       "      <td>0.0</td>\n",
       "      <td>0.0</td>\n",
       "      <td>0.0</td>\n",
       "      <td>0.0</td>\n",
       "      <td>0.0</td>\n",
       "      <td>0.0</td>\n",
       "      <td>0.0</td>\n",
       "      <td>0.0</td>\n",
       "      <td>0.0</td>\n",
       "      <td>...</td>\n",
       "      <td>0.0</td>\n",
       "      <td>0.0</td>\n",
       "      <td>0.0</td>\n",
       "      <td>0.0</td>\n",
       "      <td>0.0</td>\n",
       "      <td>0.0</td>\n",
       "      <td>0.0</td>\n",
       "      <td>0.0</td>\n",
       "      <td>0.0</td>\n",
       "      <td>0.0</td>\n",
       "    </tr>\n",
       "    <tr>\n",
       "      <th>AAACATACCGGAGA-1</th>\n",
       "      <td>0.0</td>\n",
       "      <td>0.0</td>\n",
       "      <td>0.0</td>\n",
       "      <td>0.0</td>\n",
       "      <td>0.0</td>\n",
       "      <td>0.0</td>\n",
       "      <td>0.0</td>\n",
       "      <td>0.0</td>\n",
       "      <td>0.0</td>\n",
       "      <td>0.0</td>\n",
       "      <td>...</td>\n",
       "      <td>0.0</td>\n",
       "      <td>0.0</td>\n",
       "      <td>0.0</td>\n",
       "      <td>0.0</td>\n",
       "      <td>0.0</td>\n",
       "      <td>0.0</td>\n",
       "      <td>0.0</td>\n",
       "      <td>0.0</td>\n",
       "      <td>0.0</td>\n",
       "      <td>0.0</td>\n",
       "    </tr>\n",
       "    <tr>\n",
       "      <th>AAACATACTAACCG-1</th>\n",
       "      <td>0.0</td>\n",
       "      <td>0.0</td>\n",
       "      <td>0.0</td>\n",
       "      <td>0.0</td>\n",
       "      <td>0.0</td>\n",
       "      <td>0.0</td>\n",
       "      <td>0.0</td>\n",
       "      <td>0.0</td>\n",
       "      <td>0.0</td>\n",
       "      <td>0.0</td>\n",
       "      <td>...</td>\n",
       "      <td>0.0</td>\n",
       "      <td>0.0</td>\n",
       "      <td>0.0</td>\n",
       "      <td>0.0</td>\n",
       "      <td>0.0</td>\n",
       "      <td>0.0</td>\n",
       "      <td>0.0</td>\n",
       "      <td>0.0</td>\n",
       "      <td>0.0</td>\n",
       "      <td>0.0</td>\n",
       "    </tr>\n",
       "    <tr>\n",
       "      <th>AAACATACTCTTCA-1</th>\n",
       "      <td>0.0</td>\n",
       "      <td>0.0</td>\n",
       "      <td>0.0</td>\n",
       "      <td>0.0</td>\n",
       "      <td>0.0</td>\n",
       "      <td>0.0</td>\n",
       "      <td>0.0</td>\n",
       "      <td>0.0</td>\n",
       "      <td>0.0</td>\n",
       "      <td>0.0</td>\n",
       "      <td>...</td>\n",
       "      <td>0.0</td>\n",
       "      <td>0.0</td>\n",
       "      <td>0.0</td>\n",
       "      <td>0.0</td>\n",
       "      <td>0.0</td>\n",
       "      <td>0.0</td>\n",
       "      <td>0.0</td>\n",
       "      <td>0.0</td>\n",
       "      <td>0.0</td>\n",
       "      <td>0.0</td>\n",
       "    </tr>\n",
       "  </tbody>\n",
       "</table>\n",
       "<p>5 rows × 32643 columns</p>\n",
       "</div>"
      ],
      "text/plain": [
       "                  MIR1302-10  FAM138A  OR4F5  RP11-34P13.7  RP11-34P13.8  \\\n",
       "0                                                                          \n",
       "AAACATACACCCAA-1         0.0      0.0    0.0           0.0           0.0   \n",
       "AAACATACCCCTCA-1         0.0      0.0    0.0           0.0           0.0   \n",
       "AAACATACCGGAGA-1         0.0      0.0    0.0           0.0           0.0   \n",
       "AAACATACTAACCG-1         0.0      0.0    0.0           0.0           0.0   \n",
       "AAACATACTCTTCA-1         0.0      0.0    0.0           0.0           0.0   \n",
       "\n",
       "                  AL627309.1  RP11-34P13.14  RP11-34P13.9  AP006222.2  \\\n",
       "0                                                                       \n",
       "AAACATACACCCAA-1         0.0            0.0           0.0         0.0   \n",
       "AAACATACCCCTCA-1         0.0            0.0           0.0         0.0   \n",
       "AAACATACCGGAGA-1         0.0            0.0           0.0         0.0   \n",
       "AAACATACTAACCG-1         0.0            0.0           0.0         0.0   \n",
       "AAACATACTCTTCA-1         0.0            0.0           0.0         0.0   \n",
       "\n",
       "                  RP4-669L17.10  ...  BX072566.1  AL354822.1  KIR2DL2  \\\n",
       "0                                ...                                    \n",
       "AAACATACACCCAA-1            0.0  ...         0.0         0.0      0.0   \n",
       "AAACATACCCCTCA-1            0.0  ...         0.0         0.0      0.0   \n",
       "AAACATACCGGAGA-1            0.0  ...         0.0         0.0      0.0   \n",
       "AAACATACTAACCG-1            0.0  ...         0.0         0.0      0.0   \n",
       "AAACATACTCTTCA-1            0.0  ...         0.0         0.0      0.0   \n",
       "\n",
       "                  AL590523.1  CT476828.1  AC145205.1  BAGE5  CU459201.1  \\\n",
       "0                                                                         \n",
       "AAACATACACCCAA-1         0.0         0.0         0.0    0.0         0.0   \n",
       "AAACATACCCCTCA-1         0.0         0.0         0.0    0.0         0.0   \n",
       "AAACATACCGGAGA-1         0.0         0.0         0.0    0.0         0.0   \n",
       "AAACATACTAACCG-1         0.0         0.0         0.0    0.0         0.0   \n",
       "AAACATACTCTTCA-1         0.0         0.0         0.0    0.0         0.0   \n",
       "\n",
       "                  AC002321.2  AC002321.1  \n",
       "0                                         \n",
       "AAACATACACCCAA-1         0.0         0.0  \n",
       "AAACATACCCCTCA-1         0.0         0.0  \n",
       "AAACATACCGGAGA-1         0.0         0.0  \n",
       "AAACATACTAACCG-1         0.0         0.0  \n",
       "AAACATACTCTTCA-1         0.0         0.0  \n",
       "\n",
       "[5 rows x 32643 columns]"
      ]
     },
     "execution_count": 3,
     "metadata": {},
     "output_type": "execute_result"
    }
   ],
   "source": [
    "zheng = sctype(path_data)\n",
    "zheng.data.head()"
   ]
  },
  {
   "cell_type": "code",
   "execution_count": 4,
   "metadata": {},
   "outputs": [],
   "source": [
    "zheng.split(labels = labels, test_size = 0.33, random_state = 40)"
   ]
  },
  {
   "cell_type": "code",
   "execution_count": 7,
   "metadata": {
    "scrolled": true
   },
   "outputs": [
    {
     "name": "stderr",
     "output_type": "stream",
     "text": [
      "/Library/Frameworks/Python.framework/Versions/3.9/lib/python3.9/site-packages/sklearn/svm/_base.py:976: ConvergenceWarning: Liblinear failed to converge, increase the number of iterations.\n",
      "  warnings.warn(\"Liblinear failed to converge, increase \"\n",
      "/Library/Frameworks/Python.framework/Versions/3.9/lib/python3.9/site-packages/sklearn/svm/_base.py:976: ConvergenceWarning: Liblinear failed to converge, increase the number of iterations.\n",
      "  warnings.warn(\"Liblinear failed to converge, increase \"\n",
      "/Library/Frameworks/Python.framework/Versions/3.9/lib/python3.9/site-packages/sklearn/svm/_base.py:976: ConvergenceWarning: Liblinear failed to converge, increase the number of iterations.\n",
      "  warnings.warn(\"Liblinear failed to converge, increase \"\n",
      "/Library/Frameworks/Python.framework/Versions/3.9/lib/python3.9/site-packages/sklearn/svm/_base.py:976: ConvergenceWarning: Liblinear failed to converge, increase the number of iterations.\n",
      "  warnings.warn(\"Liblinear failed to converge, increase \"\n"
     ]
    }
   ],
   "source": [
    "model = zheng.svm()"
   ]
  },
  {
   "cell_type": "code",
   "execution_count": 8,
   "metadata": {},
   "outputs": [],
   "source": [
    "predictions_train = model.predict(zheng.train_data)\n",
    "predictions_test = model.predict(zheng.test_data)"
   ]
  },
  {
   "cell_type": "code",
   "execution_count": 9,
   "metadata": {},
   "outputs": [
    {
     "name": "stdout",
     "output_type": "stream",
     "text": [
      "The prediction accuracy on the train set is: 0.9136178640607656\n",
      "The prediction accuracy on the test set is: 0.7101891127606929\n"
     ]
    }
   ],
   "source": [
    "print(\"The prediction accuracy on the train set is: {}\"\\\n",
    "      .format(sum(predictions_train == zheng.train_labels.iloc[:,0])/len(predictions_train)))\n",
    "print(\"The prediction accuracy on the test set is: {}\"\\\n",
    "      .format(sum(predictions_test == zheng.test_labels.iloc[:,0])/len(predictions_test)))"
   ]
  },
  {
   "cell_type": "code",
   "execution_count": null,
   "metadata": {},
   "outputs": [],
   "source": [
    "# Use cross validation\n",
    "# cv_scores = []\n",
    "# for model, params in cv_svms:\n",
    "#     cv_scores.append(cv_demo.cross_val(model, cv_demo.data, 5))"
   ]
  },
  {
   "cell_type": "code",
   "execution_count": 12,
   "metadata": {},
   "outputs": [],
   "source": [
    "# probs = model.decision_function(zheng.test_data)\n",
    "# probs = (probs-probs.min())/(probs.max()-probs.min())\n",
    "# probs\n",
    "probs = model.predict_proba(zheng.test_data)"
   ]
  },
  {
   "cell_type": "code",
   "execution_count": 30,
   "metadata": {},
   "outputs": [
    {
     "data": {
      "text/plain": [
       "array(['CD14+ Monocyte', 'CD19+ B', 'CD34+', 'CD4+ T Helper2',\n",
       "       'CD4+/CD25 T Reg', 'CD4+/CD45RA+/CD25- Naive T',\n",
       "       'CD4+/CD45RO+ Memory', 'CD56+ NK', 'CD8+ Cytotoxic T',\n",
       "       'CD8+/CD45RA+ Naive Cytotoxic', 'Dendritic'], dtype=object)"
      ]
     },
     "execution_count": 30,
     "metadata": {},
     "output_type": "execute_result"
    }
   ],
   "source": [
    "np.unique(zheng.test_labels)"
   ]
  },
  {
   "cell_type": "code",
   "execution_count": null,
   "metadata": {},
   "outputs": [],
   "source": []
  }
 ],
 "metadata": {
  "kernelspec": {
   "display_name": "Python 3",
   "language": "python",
   "name": "python3"
  },
  "language_info": {
   "codemirror_mode": {
    "name": "ipython",
    "version": 3
   },
   "file_extension": ".py",
   "mimetype": "text/x-python",
   "name": "python",
   "nbconvert_exporter": "python",
   "pygments_lexer": "ipython3",
   "version": "3.8.3"
  }
 },
 "nbformat": 4,
 "nbformat_minor": 4
}
