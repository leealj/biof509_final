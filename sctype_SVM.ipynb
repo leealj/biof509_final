{
 "cells": [
  {
   "cell_type": "markdown",
   "metadata": {},
   "source": [
    "# Code for sctype class \n",
    "### (10-15-2020)\n",
    "- initializing the sctype class imports 10Xv2 data with genes.tsv, barcodes.tsv, and matrix.mtx files\n",
    "- must provide path to the directory with these three files.\n",
    "- Need to import cell type annotations manually with pd.read_csv()\n",
    "\n",
    "### (10-19-2020)\n",
    "- SVM implemented with LinearSVC \n",
    "    - SVC was giving me \"AttributeError: var not found\"\n",
    "    - Not sure how to resolve this error, but documentation recommends LinearSVC for large datasets anyways\n",
    "- changed the output of train_test_split() to split all train/test data as well as labels (4 outputs)\n",
    "\n",
    "### (10-20-2020)\n",
    "- Added CalibratedClassifierCV() wrapper to model to calibrate probabilities\n",
    "- Use predict_proba() method to get probabilities for each class"
   ]
  },
  {
   "cell_type": "code",
   "execution_count": 1,
   "metadata": {},
   "outputs": [],
   "source": [
    "import numpy as np\n",
    "import pandas as pd\n",
    "import scipy.io as io\n",
    "from sklearn.svm import LinearSVC\n",
    "from sklearn.calibration import CalibratedClassifierCV\n",
    "from sklearn.model_selection import train_test_split\n",
    "from sklearn.model_selection import cross_val_score\n",
    "\n",
    "\n",
    "# path = path to the 10Xv2 data directory containing genes.tsv, barcodes.tsv, and matrix.mtx files\n",
    "# Note: need to import cell type annotations file manually since annotation files do not \n",
    "# have any set format between datasets. Set index names to cell barcode IDs in the annotation dataframe\n",
    "# and have the celltype annotations as the first column.\n",
    "\n",
    "\n",
    "class sctype:\n",
    "    def __init__(self, path):\n",
    "        self.genes = pd.read_csv(path + 'genes.tsv', sep = '\\t', header = None).iloc[:,1]\n",
    "        self.barcodes = pd.read_csv(path + 'barcodes.tsv', sep = '\\t', header = None).iloc[:,0]\n",
    "        expression = io.mmread(path + 'matrix.mtx') \n",
    "        \n",
    "        data = pd.DataFrame.sparse.from_spmatrix(data = expression, index = self.genes, columns = self.barcodes)\n",
    "        data = data.fillna(0)\n",
    "        gene_counts = data.sum(axis = 1)\n",
    "        data = data[gene_counts != 0]\n",
    "        \n",
    "        self.data = data.transpose()\n",
    "        self.dropouts = gene_counts[gene_counts == 0].index\n",
    "    \n",
    "    \n",
    "# This preprocess step will divide the gene counts by the total counts per cell, multiply by scale_factor\n",
    "# and perform log1p; output is normalized logCPM data. \n",
    "# Scale will center the per gene expression data around 0 and adjust to unit variance.\n",
    "# Though, this doesn't seem to affect NN performance too much. Can feed self.data to the split method\n",
    "# and go directly to training the NN without running this preprocessing step.\n",
    "\n",
    "    def data_preprocess(self, normalize = True, scale_factor = 10000, scale = True):\n",
    "        if normalize:\n",
    "            cell_counts = self.data.sum(axis = 1)\n",
    "            div = self.data.divide(other = cell_counts, axis = 'index')\n",
    "            self.data_norm = np.log1p(div * scale_factor)\n",
    "        if scale:\n",
    "            if normalize:\n",
    "                self.data_norm = (self.data_norm - np.mean(self.data_norm, axis = 0))\\\n",
    "                /(np.std(self.data_norm, axis = 0))\n",
    "            else:\n",
    "                self.data_scaled = (self.data - np.mean(self.data, axis = 0))\\\n",
    "                /(np.std(self.data, axis = 0))\n",
    "\n",
    "                \n",
    "# Labels input should be a dataframe with cell barcode IDs as indices and celltype annotations \n",
    "# in the first column. This will convert labels with one-hot encoding for use as labels in the NN\n",
    "# must be done BEFORE splitting into train/test sets.\n",
    "\n",
    "# The key to the one-hot encoded labels will be stored in self.key\n",
    "# The original labels will be stored in self.labels\n",
    "\n",
    "    def process_labels(self, labels):\n",
    "        labels[labels == ['CD4+/CD45RO+ Memory']] = 'CD4+ T' \n",
    "        labels[labels == ['CD4+/CD25 T Reg']] = 'CD4+ T' \n",
    "        labels[labels == ['CD4+ T Helper2']] = 'CD4+ T' \n",
    "        labels[labels == ['CD4+/CD45RA+/CD25- Naive T']] = 'CD4+ T' \n",
    "        labels[labels == ['CD8+ Cytotoxic T']] = 'CD8+ T'\n",
    "        labels[labels == ['CD8+/CD45RA+ Naive Cytotoxic']] = 'CD8+ T'\n",
    "        self.labels = labels\n",
    "    \n",
    "    def split(self, data, labels, test_size, random_state):\n",
    "        self.train_data, self.test_data, self.train_labels, self.test_labels = train_test_split(\n",
    "            data, labels, test_size=test_size,\n",
    "            random_state=random_state, stratify=labels)\n",
    "\n",
    "    def svm(self, iterations = 1000, cv = 4, method = 'sigmoid'):\n",
    "#     def svm(self, iterations = 1000):\n",
    "        clf = LinearSVC(max_iter = iterations)\n",
    "        clf = CalibratedClassifierCV(clf, cv = cv, method = method)\n",
    "        self.svmfit = clf.fit(self.train_data, self.train_labels.iloc[:,0])\n",
    "        return self.svmfit"
   ]
  },
  {
   "cell_type": "markdown",
   "metadata": {},
   "source": [
    "Define paths for Zheng 68k PBMC dataset/annotations, and import annotations:"
   ]
  },
  {
   "cell_type": "code",
   "execution_count": 2,
   "metadata": {},
   "outputs": [],
   "source": [
    "path_data = '/Users/leealj/py_projects/biof509_final/zheng68k/filtered_matrices_mex/hg19/'\n",
    "path_anno = '/Users/leealj/py_projects/biof509_final/zheng68k/'\n",
    "labels = pd.read_csv(path_anno + '68k_pbmc_barcodes_annotation.tsv', sep = '\\t').loc[:,[\"barcodes\",\"celltype\"]]\n",
    "labels.set_index(\"barcodes\", inplace = True)"
   ]
  },
  {
   "cell_type": "markdown",
   "metadata": {},
   "source": [
    "Create the sctype class and check data"
   ]
  },
  {
   "cell_type": "code",
   "execution_count": 3,
   "metadata": {},
   "outputs": [],
   "source": [
    "zheng = sctype(path_data)"
   ]
  },
  {
   "cell_type": "code",
   "execution_count": null,
   "metadata": {},
   "outputs": [],
   "source": [
    "# zheng.data_preprocess(normalize = True, scale = True)"
   ]
  },
  {
   "cell_type": "code",
   "execution_count": 4,
   "metadata": {},
   "outputs": [],
   "source": [
    "zheng.process_labels(labels)"
   ]
  },
  {
   "cell_type": "code",
   "execution_count": 5,
   "metadata": {},
   "outputs": [],
   "source": [
    "zheng.split(data = zheng.data, labels = zheng.labels, test_size = 0.25, random_state = 40)"
   ]
  },
  {
   "cell_type": "code",
   "execution_count": 6,
   "metadata": {
    "scrolled": true
   },
   "outputs": [
    {
     "name": "stderr",
     "output_type": "stream",
     "text": [
      "/Users/leealj/opt/anaconda3/lib/python3.8/site-packages/sklearn/svm/_base.py:976: ConvergenceWarning: Liblinear failed to converge, increase the number of iterations.\n",
      "  warnings.warn(\"Liblinear failed to converge, increase \"\n",
      "/Users/leealj/opt/anaconda3/lib/python3.8/site-packages/sklearn/svm/_base.py:976: ConvergenceWarning: Liblinear failed to converge, increase the number of iterations.\n",
      "  warnings.warn(\"Liblinear failed to converge, increase \"\n",
      "/Users/leealj/opt/anaconda3/lib/python3.8/site-packages/sklearn/svm/_base.py:976: ConvergenceWarning: Liblinear failed to converge, increase the number of iterations.\n",
      "  warnings.warn(\"Liblinear failed to converge, increase \"\n",
      "/Users/leealj/opt/anaconda3/lib/python3.8/site-packages/sklearn/svm/_base.py:976: ConvergenceWarning: Liblinear failed to converge, increase the number of iterations.\n",
      "  warnings.warn(\"Liblinear failed to converge, increase \"\n"
     ]
    }
   ],
   "source": [
    "model = zheng.svm()"
   ]
  },
  {
   "cell_type": "code",
   "execution_count": 7,
   "metadata": {},
   "outputs": [],
   "source": [
    "predictions_train = model.predict(zheng.train_data)\n",
    "predictions_test = model.predict(zheng.test_data)"
   ]
  },
  {
   "cell_type": "code",
   "execution_count": 8,
   "metadata": {},
   "outputs": [
    {
     "name": "stdout",
     "output_type": "stream",
     "text": [
      "The prediction accuracy on the train set is: 0.926080024886262\n",
      "The prediction accuracy on the test set is: 0.8323709536307962\n"
     ]
    }
   ],
   "source": [
    "print(\"The prediction accuracy on the train set is: {}\"\\\n",
    "      .format(sum(predictions_train == zheng.train_labels.iloc[:,0])/len(predictions_train)))\n",
    "print(\"The prediction accuracy on the test set is: {}\"\\\n",
    "      .format(sum(predictions_test == zheng.test_labels.iloc[:,0])/len(predictions_test)))"
   ]
  },
  {
   "cell_type": "code",
   "execution_count": null,
   "metadata": {},
   "outputs": [],
   "source": [
    "# Use cross validation\n",
    "# cv_scores = []\n",
    "# for model, params in cv_svms:\n",
    "#     cv_scores.append(cv_demo.cross_val(model, cv_demo.data, 5))"
   ]
  },
  {
   "cell_type": "code",
   "execution_count": 14,
   "metadata": {},
   "outputs": [
    {
     "name": "stdout",
     "output_type": "stream",
     "text": [
      "7.107265201814256e-42\n",
      "0.9999999735416614\n"
     ]
    }
   ],
   "source": [
    "# test_probs = model.decision_function(zheng.test_data)\n",
    "# test_probs = (test_probs-test_probs.min())/(test_probs.max()-test_probs.min())\n",
    "\n",
    "test_probs = model.predict_proba(zheng.test_data)\n",
    "\n",
    "print(test_probs.min())\n",
    "print(test_probs.max())"
   ]
  },
  {
   "cell_type": "markdown",
   "metadata": {},
   "source": [
    "## Generating heatmaps and violin plots\n"
   ]
  },
  {
   "cell_type": "code",
   "execution_count": 10,
   "metadata": {},
   "outputs": [
    {
     "data": {
      "image/png": "[encoded data removed]",
      "text/plain": [
       "<Figure size 432x288 with 2 Axes>"
      ]
     },
     "metadata": {
      "needs_background": "light"
     },
     "output_type": "display_data"
    }
   ],
   "source": [
    "import matplotlib\n",
    "import matplotlib.pyplot as plt\n",
    "from sklearn.metrics import confusion_matrix\n",
    "\n",
    "confmatrix = confusion_matrix(zheng.test_labels.iloc[:,0], predictions_test, normalize = 'true')\n",
    "celltypes = np.unique(zheng.test_labels.iloc[:,0])\n",
    "\n",
    "fig, ax = plt.subplots()\n",
    "im = ax.imshow(confmatrix*100)\n",
    "\n",
    "ax.set_xticks(np.arange(len(celltypes)))\n",
    "ax.set_yticks(np.arange(len(celltypes)))\n",
    "\n",
    "ax.set_xticklabels(celltypes)\n",
    "ax.set_yticklabels(celltypes)\n",
    "\n",
    "plt.setp(ax.get_xticklabels(), rotation=45, ha=\"right\",\n",
    "         rotation_mode=\"anchor\")\n",
    "\n",
    "cbar = ax.figure.colorbar(im, ax=ax)\n",
    "cbar.ax.set_ylabel(\"% accuracy\", rotation=-90, va=\"bottom\")\n",
    "\n",
    "ax.set_ylabel(\"Predicted labels\")\n",
    "ax.set_xlabel(\"True labels\")\n",
    "ax.set_title(\"Predicted vs. True labels\")\n",
    "fig.tight_layout()\n",
    "# plt.savefig(fname = '/Users/leealj/py_projects/biof509_final/svm_heatmap.png', dpi = 500, transparent = True)\n",
    "plt.show()"
   ]
  },
  {
   "cell_type": "code",
   "execution_count": null,
   "metadata": {},
   "outputs": [],
   "source": []
  }
 ],
 "metadata": {
  "kernelspec": {
   "display_name": "Python 3",
   "language": "python",
   "name": "python3"
  },
  "language_info": {
   "codemirror_mode": {
    "name": "ipython",
    "version": 3
   },
   "file_extension": ".py",
   "mimetype": "text/x-python",
   "name": "python",
   "nbconvert_exporter": "python",
   "pygments_lexer": "ipython3",
   "version": "3.8.3"
  }
 },
 "nbformat": 4,
 "nbformat_minor": 4
}
