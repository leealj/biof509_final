{
 "cells": [
  {
   "cell_type": "markdown",
   "metadata": {},
   "source": [
    "# Code to implement ANN for Zheng 68k dataset\n",
    "\n",
    "(10-22-2020)\n",
    "- implementing ANN with Tensorflow/Keras instead of PyTorch"
   ]
  },
  {
   "cell_type": "code",
   "execution_count": 4,
   "metadata": {},
   "outputs": [],
   "source": [
    "import numpy as np\n",
    "import pandas as pd\n",
    "import scipy.io as io\n",
    "import tensorflow as tf\n",
    "from tensorflow import keras\n",
    "from tensorflow.keras import layers\n",
    "from tensorflow.keras.utils import to_categorical\n",
    "from sklearn.model_selection import train_test_split\n",
    "\n",
    "# path = path to the 10Xv2 data directory containing genes.tsv, barcodes.tsv, and matrix.mtx files\n",
    "# Note: need to import cell type annotations file manually since annotation files do not \n",
    "# have any set format between datasets. Set index names to cell barcode IDs in the annotation dataframe\n",
    "# and have the celltype annotations as the first column.\n",
    "\n",
    "class sctype:\n",
    "    def __init__(self, path):\n",
    "        self.genes = pd.read_csv(path + 'genes.tsv', sep = '\\t', header = None).iloc[:,1]\n",
    "        self.barcodes = pd.read_csv(path + 'barcodes.tsv', sep = '\\t', header = None).iloc[:,0]\n",
    "        expression = io.mmread(path + 'matrix.mtx') \n",
    "        data = pd.DataFrame.sparse.from_spmatrix(data = expression, index = self.genes, columns = self.barcodes)\n",
    "        self.data = data.transpose()\n",
    "    \n",
    "#     labels input should be a dataframe with cell barcode IDs as indices\n",
    "#     and celltype annotations in the first column.\n",
    "    def split(self, labels, test_size, random_state):\n",
    "        train_data, test_data, self.train_labels, self.test_labels = train_test_split(\n",
    "            self.data, labels, test_size=test_size, random_state=random_state)\n",
    "        self.train_data = train_data.fillna(0)\n",
    "        self.test_data = test_data.fillna(0)\n",
    "    \n",
    "    def ann_preprocess(self, data=None, target=None):\n",
    "        ann_data = data\n",
    "        factored_labels = pd.factorize(target.iloc[:,0])\n",
    "        ann_target = to_categorical(factored_labels[0], len(factored_labels[1]))\n",
    "        return ann_data, ann_target\n",
    "    \n",
    "    def ann(self, epochs, batch_size):\n",
    "        ann_data, ann_target = self.ann_preprocess(data=self.train_data, target=self.train_labels)\n",
    "        \n",
    "        model = keras.Sequential()\n",
    "        model.add(layers.Dense(200, activation='relu', name = 'layer1'))\n",
    "        model.add(layers.Dense(11, activation='softmax', name = 'outputlayer'))\n",
    "        \n",
    "        model.compile(optimizer='adam',\n",
    "                     loss='categorical_crossentropy',\n",
    "                     metrics=['accuracy'])\n",
    "        \n",
    "        model.fit(ann_data, ann_target, epochs=epochs, batch_size=batch_size)\n",
    "        self.ann = model\n",
    "        return self.ann"
   ]
  },
  {
   "cell_type": "code",
   "execution_count": 5,
   "metadata": {},
   "outputs": [],
   "source": [
    "path_data = '/Users/leealj/py_projects/biof509_final/zheng68k/filtered_matrices_mex/hg19/'\n",
    "path_anno = '/Users/leealj/py_projects/biof509_final/zheng68k/'\n",
    "labels = pd.read_csv(path_anno + '68k_pbmc_barcodes_annotation.tsv', sep = '\\t').loc[:,[\"barcodes\",\"celltype\"]]\n",
    "labels.set_index(\"barcodes\", inplace = True)"
   ]
  },
  {
   "cell_type": "code",
   "execution_count": 6,
   "metadata": {},
   "outputs": [],
   "source": [
    "zheng = sctype(path_data)"
   ]
  },
  {
   "cell_type": "code",
   "execution_count": 7,
   "metadata": {},
   "outputs": [],
   "source": [
    "zheng.split(labels, 0.25, random_state = 40)"
   ]
  },
  {
   "cell_type": "code",
   "execution_count": 14,
   "metadata": {
    "scrolled": false
   },
   "outputs": [
    {
     "name": "stdout",
     "output_type": "stream",
     "text": [
      "Epoch 1/5\n",
      "WARNING:tensorflow:Layer layer1 is casting an input tensor from dtype float64 to the layer's dtype of float32, which is new behavior in TensorFlow 2.  The layer has dtype float32 because its dtype defaults to floatx.\n",
      "\n",
      "If you intended to run this layer in float32, you can safely ignore this warning. If in doubt, this warning is likely only an issue if you are porting a TensorFlow 1.X model to TensorFlow 2.\n",
      "\n",
      "To change all layers to have dtype float64 by default, call `tf.keras.backend.set_floatx('float64')`. To change just this layer, pass dtype='float64' to the layer constructor. If you are the author of this layer, you can disable autocasting by passing autocast=False to the base Layer constructor.\n",
      "\n",
      "103/103 [==============================] - 22s 216ms/step - loss: 1.0387 - accuracy: 0.6397\n",
      "Epoch 2/5\n",
      "103/103 [==============================] - 23s 219ms/step - loss: 0.6559 - accuracy: 0.7558\n",
      "Epoch 3/5\n",
      "103/103 [==============================] - 21s 207ms/step - loss: 0.5067 - accuracy: 0.8192\n",
      "Epoch 4/5\n",
      "103/103 [==============================] - 21s 207ms/step - loss: 0.3858 - accuracy: 0.8729\n",
      "Epoch 5/5\n",
      "103/103 [==============================] - 21s 206ms/step - loss: 0.2977 - accuracy: 0.9080\n"
     ]
    },
    {
     "data": {
      "text/plain": [
       "<tensorflow.python.keras.engine.sequential.Sequential at 0x7fe4fd401df0>"
      ]
     },
     "execution_count": 14,
     "metadata": {},
     "output_type": "execute_result"
    }
   ],
   "source": [
    "# train the NN with the training dataset from split\n",
    "zheng.ann(5, 500) "
   ]
  },
  {
   "cell_type": "code",
   "execution_count": 15,
   "metadata": {},
   "outputs": [
    {
     "name": "stdout",
     "output_type": "stream",
     "text": [
      "536/536 [==============================] - 4s 8ms/step - loss: 5.4367 - accuracy: 0.2311\n",
      "test loss= 5.436718463897705\n",
      "test accuracy= 0.23108777403831482\n"
     ]
    }
   ],
   "source": [
    "# Use test dataset from split to test the NN\n",
    "test_data, test_labels = zheng.ann_preprocess(data=zheng.test_data, target=zheng.test_labels)\n",
    "score = zheng.ann.evaluate(test_data, test_labels, verbose=1)\n",
    "print('test loss=', score[0]) \n",
    "print('test accuracy=', score[1]) "
   ]
  },
  {
   "cell_type": "code",
   "execution_count": 16,
   "metadata": {},
   "outputs": [
    {
     "name": "stdout",
     "output_type": "stream",
     "text": [
      "1608/1608 [==============================] - 17s 11ms/step - loss: 0.2181 - accuracy: 0.9466\n",
      "training loss= 0.21806104481220245\n",
      "training accuracy= 0.9465528726577759\n"
     ]
    }
   ],
   "source": [
    "# Use train dataset from split to test the NN\n",
    "train_data, train_labels = zheng.ann_preprocess(data=zheng.train_data, target=zheng.train_labels)\n",
    "score_train = zheng.ann.evaluate(train_data, train_labels, verbose=1)\n",
    "print('training loss=', score_train[0]) \n",
    "print('training accuracy=', score_train[1]) "
   ]
  },
  {
   "cell_type": "code",
   "execution_count": null,
   "metadata": {},
   "outputs": [],
   "source": []
  }
 ],
 "metadata": {
  "kernelspec": {
   "display_name": "Python 3",
   "language": "python",
   "name": "python3"
  },
  "language_info": {
   "codemirror_mode": {
    "name": "ipython",
    "version": 3
   },
   "file_extension": ".py",
   "mimetype": "text/x-python",
   "name": "python",
   "nbconvert_exporter": "python",
   "pygments_lexer": "ipython3",
   "version": "3.8.3"
  }
 },
 "nbformat": 4,
 "nbformat_minor": 4
}
