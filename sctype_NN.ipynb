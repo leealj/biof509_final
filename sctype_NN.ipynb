{
 "cells": [
  {
   "cell_type": "markdown",
   "metadata": {},
   "source": [
    "# Code to implement ANN for Zheng 68k dataset\n",
    "\n",
    "(10-22-2020)\n",
    "- implementing ANN with Tensorflow/Keras instead of PyTorch\n",
    "\n",
    "(10-23-2020)\n",
    "- tried 10 epochs w/ 16 (instead of 500) as batch size. Still about 23% accuracy on test data.\n",
    "- removing dropouts in the init method and added method for normalization/scaling\n",
    "- note: removing all genes with 0 counts and using normalized logCPM does not improve test accuracy\n",
    "- Realized that using to_categorical separately on train/test data mixes up the labels.\n",
    "- one 200 node layer gives about 65% accuracy on test data\n",
    "\n",
    "(10-24-2020)\n",
    "- created method to convert binary class matrices back to class vectors \n",
    "- class vectors can now be used to create confusion matrices (true labels, predicted labels)\n",
    "- created method to take the max. probability cell type assignment from model.predict as the cell type prediction\n",
    "- Added demo and general workflow summary"
   ]
  },
  {
   "cell_type": "code",
   "execution_count": 1,
   "metadata": {},
   "outputs": [],
   "source": [
    "import numpy as np\n",
    "import pandas as pd\n",
    "import scipy.io as io\n",
    "import tensorflow as tf\n",
    "from tensorflow import keras\n",
    "from tensorflow.keras import layers\n",
    "from tensorflow.keras.utils import to_categorical\n",
    "from sklearn.model_selection import train_test_split\n",
    "\n",
    "# path = path to the 10Xv2 data directory containing genes.tsv, barcodes.tsv, and matrix.mtx files\n",
    "# Note: need to import cell type annotations file manually since annotation files do not \n",
    "# have any set format between datasets. Set index names to cell barcode IDs in the annotation dataframe\n",
    "# and have the celltype annotations as the first column.\n",
    "\n",
    "class sctype:\n",
    "    def __init__(self, path):\n",
    "        self.genes = pd.read_csv(path + 'genes.tsv', sep = '\\t', header = None).iloc[:,1]\n",
    "        self.barcodes = pd.read_csv(path + 'barcodes.tsv', sep = '\\t', header = None).iloc[:,0]\n",
    "        expression = io.mmread(path + 'matrix.mtx') \n",
    "        \n",
    "        data = pd.DataFrame.sparse.from_spmatrix(data = expression, index = self.genes, columns = self.barcodes)\n",
    "        data = data.fillna(0)\n",
    "        gene_counts = data.sum(axis = 1)\n",
    "        data = data[gene_counts != 0]\n",
    "        \n",
    "        self.data = data.transpose()\n",
    "        self.dropouts = gene_counts[gene_counts == 0].index\n",
    "    \n",
    "    \n",
    "# This preprocess step will divide the gene counts by the total counts per cell, multiply by scale_factor\n",
    "# and perform log1p; output is normalized logCPM data. \n",
    "# Scale will center the per gene expression data around 0 and adjust to unit variance.\n",
    "# Though, this doesn't seem to affect NN performance too much. Can feed self.data to the split method\n",
    "# and go directly to training the NN without running this preprocessing step.\n",
    "\n",
    "    def data_preprocess(self, normalize = True, scale_factor = 10000, scale = True):\n",
    "        if normalize:\n",
    "            cell_counts = self.data.sum(axis = 1)\n",
    "            div = self.data.divide(other = cell_counts, axis = 'index')\n",
    "            self.data_norm = np.log1p(div * scale_factor)\n",
    "        if scale:\n",
    "            if normalize:\n",
    "                self.data_norm = (self.data_norm - np.mean(self.data_norm, axis = 0))\\\n",
    "                /(np.std(self.data_norm, axis = 0))\n",
    "            else:\n",
    "                self.data_scaled = (self.data - np.mean(self.data, axis = 0))\\\n",
    "                /(np.std(self.data, axis = 0))\n",
    "\n",
    "                \n",
    "# Labels input should be a dataframe with cell barcode IDs as indices and celltype annotations \n",
    "# in the first column. This will convert labels with one-hot encoding for use as labels in the NN\n",
    "# must be done BEFORE splitting into train/test sets.\n",
    "\n",
    "# The key to the one-hot encoded labels will be stored in self.key\n",
    "# The original labels will be stored in self.labels\n",
    "\n",
    "    def process_labels(self, labels):\n",
    "        labels[labels == ['CD4+/CD45RO+ Memory']] = 'CD4+ T' \n",
    "        labels[labels == ['CD4+/CD25 T Reg']] = 'CD4+ T' \n",
    "        labels[labels == ['CD4+ T Helper2']] = 'CD4+ T' \n",
    "        labels[labels == ['CD4+/CD45RA+/CD25- Naive T']] = 'CD4+ T' \n",
    "        labels[labels == ['CD8+ Cytotoxic T']] = 'CD8+ T'\n",
    "        labels[labels == ['CD8+/CD45RA+ Naive Cytotoxic']] = 'CD8+ T'\n",
    "        \n",
    "        factorized = pd.factorize(labels.iloc[:,0])\n",
    "        self.labels = labels\n",
    "        self.key = factorized[1]\n",
    "        self.categorical_labels = to_categorical(factorized[0], len(factorized[1]))\n",
    "    \n",
    "    def split(self, data, test_size, random_state):\n",
    "        self.train_data, self.test_data, self.train_labels, self.test_labels = train_test_split(\n",
    "            data, self.categorical_labels, test_size=test_size,\n",
    "            random_state=random_state, stratify=self.categorical_labels)\n",
    "    \n",
    "    def ann(self, epochs, batch_size):\n",
    "        model = keras.Sequential()\n",
    "        model.add(layers.Dense(200, activation='relu', name = 'layer1'))\n",
    "        model.add(layers.Dense(100, activation='relu', name = 'layer2'))\n",
    "        model.add(layers.Dense(len(self.key), activation='softmax', name = 'outputlayer'))\n",
    "        \n",
    "        model.compile(optimizer='adam',\n",
    "                     loss='categorical_crossentropy',\n",
    "                     metrics=['accuracy'])\n",
    "    \n",
    "        model.fit(self.train_data, self.train_labels, epochs=epochs, batch_size=batch_size)\n",
    "            \n",
    "        self.ann_fit = model\n",
    "        return self.ann_fit\n",
    "    \n",
    "    \n",
    "# Converts the binary class matrix (created from to_categorical) back to a class vector with\n",
    "# integeters representing the different classes. The order of the labels are stored in self.key\n",
    "\n",
    "    def to_vector(self, class_matrix):\n",
    "        copy_matrix = class_matrix.copy()\n",
    "        for i in range(len(copy_matrix[0])):\n",
    "            copy_matrix[:,i] = copy_matrix[:,i] * (i+1)\n",
    "        tmp = []\n",
    "        for j in range(len(copy_matrix)):\n",
    "            tmp.append(np.trim_zeros(copy_matrix[j]))\n",
    "        class_vector = np.concatenate(tmp)\n",
    "        return class_vector\n",
    "    \n",
    "    \n",
    "# From the output of model.predict, select highest probabilities per cell as the celltype prediction\n",
    "\n",
    "    def max_prob(self, probs):\n",
    "        predictions = (probs == probs.max(axis = 1)[:,None]).astype(int)\n",
    "        return predictions"
   ]
  },
  {
   "cell_type": "markdown",
   "metadata": {},
   "source": [
    "## Demonstration of importing/processing data and training the ANN\n",
    "### General workflow:\n",
    "1. __Define path to annotation and data files__ (in format of 10X v2 data with genes.tsv, barcodes.tsv, and matrix.mtx files)\n",
    "2. __import and process annotation file__ to have barcodes as indices and cell type labels in first column\n",
    "3. __Create sctype object__, given the path to the data files\n",
    "4. __Process the labels__; this will create self.labels which retains original annotation information, but also creates one-hot encoded labels to be used for the neural network. self.key has all of the unique cell types being annotated\n",
    "5. __Preprocess counts data__(optional); this doesn't seem to have much of an affect with this intra-dataset evaluation on test data. But this will divide counts by total counts per cell, log-normalize (with log1p), and center feature data around 0.\n",
    "6. __Split the data__ to create separate train/test datasets with respective labels\n",
    "7. __Train the NN__ with # of epochs and batch size provided as input to the self.ann() method.\n",
    "8. __Evaluate performance of NN__\n",
    "9. __Generate cell type predictions__ with self.ann_fit.predict()\n",
    "10. __Convert prediction probabilities to cell type labels__ with self.max_prob followed by self.to_vector. This will provide a class vector with each integeter representing a cell type (actual cell type names stored in self.key)"
   ]
  },
  {
   "cell_type": "code",
   "execution_count": 2,
   "metadata": {},
   "outputs": [],
   "source": [
    "# 1 and 2. Define annotation and data file paths and import labels. \n",
    "path_data = '/Users/leealj/py_projects/biof509_final/zheng68k/filtered_matrices_mex/hg19/'\n",
    "path_anno = '/Users/leealj/py_projects/biof509_final/zheng68k/'\n",
    "\n",
    "labels = pd.read_csv(path_anno + '68k_pbmc_barcodes_annotation.tsv', sep = '\\t').loc[:,[\"barcodes\",\"celltype\"]]\n",
    "labels.set_index(\"barcodes\", inplace = True)"
   ]
  },
  {
   "cell_type": "code",
   "execution_count": 3,
   "metadata": {},
   "outputs": [],
   "source": [
    "# 3 and 4. Create sctype object, given path to the data files and process labels\n",
    "zheng = sctype(path_data)\n",
    "zheng.process_labels(labels)"
   ]
  },
  {
   "cell_type": "code",
   "execution_count": 4,
   "metadata": {},
   "outputs": [],
   "source": [
    "# 5. Data pre-processing step to calculate logCPM counts and center around 0 with unit variance.\n",
    "zheng.data_preprocess(normalize = True, scale = True)"
   ]
  },
  {
   "cell_type": "code",
   "execution_count": 5,
   "metadata": {},
   "outputs": [],
   "source": [
    "# 6. Split the expression data into a train set and test set with their respective labels\n",
    "zheng.split(data = zheng.data_norm, test_size = 0.25, random_state = 40)"
   ]
  },
  {
   "cell_type": "code",
   "execution_count": 6,
   "metadata": {},
   "outputs": [
    {
     "name": "stdout",
     "output_type": "stream",
     "text": [
      "Epoch 1/5\n",
      "WARNING:tensorflow:Layer layer1 is casting an input tensor from dtype float64 to the layer's dtype of float32, which is new behavior in TensorFlow 2.  The layer has dtype float32 because its dtype defaults to floatx.\n",
      "\n",
      "If you intended to run this layer in float32, you can safely ignore this warning. If in doubt, this warning is likely only an issue if you are porting a TensorFlow 1.X model to TensorFlow 2.\n",
      "\n",
      "To change all layers to have dtype float64 by default, call `tf.keras.backend.set_floatx('float64')`. To change just this layer, pass dtype='float64' to the layer constructor. If you are the author of this layer, you can disable autocasting by passing autocast=False to the base Layer constructor.\n",
      "\n",
      "1608/1608 [==============================] - 39s 24ms/step - loss: 0.5718 - accuracy: 0.7854\n",
      "Epoch 2/5\n",
      "1608/1608 [==============================] - 39s 24ms/step - loss: 0.1575 - accuracy: 0.9417\n",
      "Epoch 3/5\n",
      "1608/1608 [==============================] - 32s 20ms/step - loss: 0.0494 - accuracy: 0.9841\n",
      "Epoch 4/5\n",
      "1608/1608 [==============================] - 30s 18ms/step - loss: 0.0448 - accuracy: 0.9861\n",
      "Epoch 5/5\n",
      "1608/1608 [==============================] - 34s 21ms/step - loss: 0.0444 - accuracy: 0.9867\n"
     ]
    },
    {
     "data": {
      "text/plain": [
       "<tensorflow.python.keras.engine.sequential.Sequential at 0x7fb905c90580>"
      ]
     },
     "execution_count": 6,
     "metadata": {},
     "output_type": "execute_result"
    }
   ],
   "source": [
    "# 7. train the NN with the training dataset from split\n",
    "zheng.ann(5, 32) "
   ]
  },
  {
   "cell_type": "code",
   "execution_count": 7,
   "metadata": {},
   "outputs": [
    {
     "name": "stdout",
     "output_type": "stream",
     "text": [
      "1608/1608 [==============================] - 20s 12ms/step - loss: 0.0151 - accuracy: 0.9954\n",
      "training loss= 0.015109247528016567\n",
      "training accuracy= 0.9954310655593872\n"
     ]
    }
   ],
   "source": [
    "# 8. Use train dataset from split to test the NN\n",
    "score_train = zheng.ann_fit.evaluate(zheng.train_data, zheng.train_labels, verbose=1)\n",
    "print('training loss=', score_train[0]) \n",
    "print('training accuracy=', score_train[1]) "
   ]
  },
  {
   "cell_type": "code",
   "execution_count": 8,
   "metadata": {},
   "outputs": [
    {
     "name": "stdout",
     "output_type": "stream",
     "text": [
      "536/536 [==============================] - 4s 8ms/step - loss: 1.1120 - accuracy: 0.7964\n",
      "test loss= 1.111951231956482\n",
      "test accuracy= 0.796383798122406\n"
     ]
    }
   ],
   "source": [
    "# 8. Use test dataset from split to test the NN\n",
    "score = zheng.ann_fit.evaluate(zheng.test_data, zheng.test_labels, verbose=1)\n",
    "print('test loss=', score[0]) \n",
    "print('test accuracy=', score[1]) "
   ]
  },
  {
   "cell_type": "code",
   "execution_count": 9,
   "metadata": {},
   "outputs": [],
   "source": [
    "# 9. Make the cell type predictions with trained NN\n",
    "test_probs = zheng.ann_fit.predict(zheng.test_data)"
   ]
  },
  {
   "cell_type": "code",
   "execution_count": 25,
   "metadata": {},
   "outputs": [
    {
     "name": "stdout",
     "output_type": "stream",
     "text": [
      "[1 2 3 4 5 6 7]\n",
      "Index(['CD8+ T', 'CD4+ T', 'CD19+ B', 'CD56+ NK', 'CD34+', 'Dendritic',\n",
      "       'CD14+ Monocyte'],\n",
      "      dtype='object')\n"
     ]
    }
   ],
   "source": [
    "# 10. Select highest probabilities per cell from NN as the cell type prediction\n",
    "test_pred = zheng.max_prob(test_probs)\n",
    "test_pred = zheng.to_vector(test_probs)\n",
    "print(np.unique(test_pred))\n",
    "print(zheng.key)"
   ]
  },
  {
   "cell_type": "code",
   "execution_count": 26,
   "metadata": {},
   "outputs": [
    {
     "data": {
      "text/plain": [
       "array([[7929,  847,  315,  243,    8,   11,    7],\n",
       "       [ 987, 1731,   71,    1,    1,   11,    3],\n",
       "       [ 343,   67, 1058,    0,    1,    8,    0],\n",
       "       [ 284,    4,    0, 1902,    0,    2,    2],\n",
       "       [   0,    0,    2,    0,   66,    1,    0],\n",
       "       [   9,    6,   12,    0,    0,  338,  160],\n",
       "       [   0,    2,    0,    0,    0,   83,  630]])"
      ]
     },
     "execution_count": 26,
     "metadata": {},
     "output_type": "execute_result"
    }
   ],
   "source": [
    "# Create confusion matrix to evaluate performance of NN\n",
    "from sklearn.metrics import confusion_matrix\n",
    "\n",
    "test_true = zheng.to_vector(zheng.test_labels)\n",
    "# (target, predictions)\n",
    "confusion_matrix(test_true, test_pred)"
   ]
  },
  {
   "cell_type": "code",
   "execution_count": null,
   "metadata": {},
   "outputs": [],
   "source": [
    "# Cell type probabilities split by true cell type labels\n",
    "# to be used for violin plots\n",
    "\n",
    "predict1 = test_probs[np.where(test_true == 1)]\n",
    "predict2 = test_probs[np.where(test_true == 2)]\n",
    "predict3 = test_probs[np.where(test_true == 3)]\n",
    "predict4 = test_probs[np.where(test_true == 4)]\n",
    "predict5 = test_probs[np.where(test_true == 5)]\n",
    "predict6 = test_probs[np.where(test_true == 6)]\n",
    "predict7 = test_probs[np.where(test_true == 7)]"
   ]
  },
  {
   "cell_type": "markdown",
   "metadata": {},
   "source": [
    "## Generating heatmaps and violin plots"
   ]
  },
  {
   "cell_type": "code",
   "execution_count": 90,
   "metadata": {},
   "outputs": [
    {
     "data": {
      "image/png": "[encoded data removed]",
      "text/plain": [
       "<Figure size 432x288 with 2 Axes>"
      ]
     },
     "metadata": {
      "needs_background": "light"
     },
     "output_type": "display_data"
    }
   ],
   "source": [
    "import matplotlib\n",
    "import matplotlib.pyplot as plt\n",
    "\n",
    "confmatrix = confusion_matrix(test_true, test_pred, normalize = 'true')\n",
    "\n",
    "fig, ax = plt.subplots()\n",
    "im = ax.imshow(confmatrix*100)\n",
    "\n",
    "ax.set_xticks(np.arange(len(zheng.key)))\n",
    "ax.set_yticks(np.arange(len(zheng.key)))\n",
    "\n",
    "ax.set_xticklabels(zheng.key)\n",
    "ax.set_yticklabels(zheng.key)\n",
    "\n",
    "plt.setp(ax.get_xticklabels(), rotation=45, ha=\"right\",\n",
    "         rotation_mode=\"anchor\")\n",
    "\n",
    "cbar = ax.figure.colorbar(im, ax=ax)\n",
    "cbar.ax.set_ylabel(\"% accuracy\", rotation=-90, va=\"bottom\")\n",
    "\n",
    "ax.set_ylabel(\"Predicted labels\")\n",
    "ax.set_xlabel(\"True labels\")\n",
    "ax.set_title(\"Predicted vs. True labels\")\n",
    "fig.tight_layout()\n",
    "plt.savefig(fname = '/Users/leealj/py_projects/biof509_final/nn_heatmap.png', dpi = 500, transparent = True)\n",
    "plt.show()"
   ]
  },
  {
   "cell_type": "code",
   "execution_count": 83,
   "metadata": {},
   "outputs": [],
   "source": [
    "fs = 10  # fontsize\n",
    "pos = [1, 2, 4, 5, 7, 8]\n",
    "data = [np.random.normal(0, std, size=100) for std in pos]"
   ]
  },
  {
   "cell_type": "code",
   "execution_count": 87,
   "metadata": {},
   "outputs": [
    {
     "data": {
      "text/plain": [
       "array([9.9992287e-01, 7.6978991e-05, 2.0395074e-08, 3.5767496e-09,\n",
       "       5.7512025e-13, 6.1337211e-08, 6.6432710e-13], dtype=float32)"
      ]
     },
     "execution_count": 87,
     "metadata": {},
     "output_type": "execute_result"
    }
   ],
   "source": [
    "test_probs[np.where(test_true == 2)][0]"
   ]
  },
  {
   "cell_type": "code",
   "execution_count": null,
   "metadata": {},
   "outputs": [],
   "source": [
    "[np.where(test_pred) == 1] # Indices of all cells that were predicted to be CD8+ T\n",
    "test_prob[np.where(test_pred) == 1] # Prediction probabilities (for all cell types) of all cells that were predicted to be CD8+ T\n",
    "# plot these values on violin plot... So there will be 7 violin plots in total."
   ]
  }
 ],
 "metadata": {
  "kernelspec": {
   "display_name": "Python 3",
   "language": "python",
   "name": "python3"
  },
  "language_info": {
   "codemirror_mode": {
    "name": "ipython",
    "version": 3
   },
   "file_extension": ".py",
   "mimetype": "text/x-python",
   "name": "python",
   "nbconvert_exporter": "python",
   "pygments_lexer": "ipython3",
   "version": "3.8.3"
  }
 },
 "nbformat": 4,
 "nbformat_minor": 4
}
